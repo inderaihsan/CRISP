{
 "cells": [
  {
   "cell_type": "code",
   "execution_count": 38,
   "id": "7ee75e3b",
   "metadata": {},
   "outputs": [],
   "source": [
    "import pandas as pd\n",
    "import numpy as np \n",
    "import requests \n",
    "from io import BytesIO\n",
    "import json"
   ]
  },
  {
   "cell_type": "code",
   "execution_count": 61,
   "id": "c4a1d174",
   "metadata": {},
   "outputs": [],
   "source": [
    "def get_id(url) :  \n",
    "    res = url.split('/')\n",
    "    for el in res : \n",
    "      if len(el)> 10 and el !='drive.google.com' and el!='https:' and el!='docs.google.com' and el!= 'spreadsheets': \n",
    "        #print(el) \n",
    "        return el "
   ]
  },
  {
   "cell_type": "code",
   "execution_count": 69,
   "id": "54433858",
   "metadata": {},
   "outputs": [],
   "source": [
    "id = get_id(\"https://docs.google.com/spreadsheets/d/1rt5gE6PriCT5KSb2StqtOkDQEZHrM5Q2E-RJwcwsKgY/edit#gid=0\")"
   ]
  },
  {
   "cell_type": "code",
   "execution_count": 71,
   "id": "4f539bb2",
   "metadata": {},
   "outputs": [
    {
     "data": {
      "text/plain": [
       "'1rt5gE6PriCT5KSb2StqtOkDQEZHrM5Q2E-RJwcwsKgY'"
      ]
     },
     "execution_count": 71,
     "metadata": {},
     "output_type": "execute_result"
    }
   ],
   "source": []
  },
  {
   "cell_type": "code",
   "execution_count": 74,
   "id": "dec49beb",
   "metadata": {},
   "outputs": [
    {
     "data": {
      "text/html": [
       "<div>\n",
       "<style scoped>\n",
       "    .dataframe tbody tr th:only-of-type {\n",
       "        vertical-align: middle;\n",
       "    }\n",
       "\n",
       "    .dataframe tbody tr th {\n",
       "        vertical-align: top;\n",
       "    }\n",
       "\n",
       "    .dataframe thead th {\n",
       "        text-align: right;\n",
       "    }\n",
       "</style>\n",
       "<table border=\"1\" class=\"dataframe\">\n",
       "  <thead>\n",
       "    <tr style=\"text-align: right;\">\n",
       "      <th></th>\n",
       "      <th>Nama</th>\n",
       "      <th>Kelas</th>\n",
       "    </tr>\n",
       "  </thead>\n",
       "  <tbody>\n",
       "    <tr>\n",
       "      <th>0</th>\n",
       "      <td>asd</td>\n",
       "      <td>23</td>\n",
       "    </tr>\n",
       "    <tr>\n",
       "      <th>1</th>\n",
       "      <td>bca</td>\n",
       "      <td>24</td>\n",
       "    </tr>\n",
       "    <tr>\n",
       "      <th>2</th>\n",
       "      <td>ura</td>\n",
       "      <td>25</td>\n",
       "    </tr>\n",
       "  </tbody>\n",
       "</table>\n",
       "</div>"
      ],
      "text/plain": [
       "  Nama  Kelas\n",
       "0  asd     23\n",
       "1  bca     24\n",
       "2  ura     25"
      ]
     },
     "execution_count": 74,
     "metadata": {},
     "output_type": "execute_result"
    }
   ],
   "source": [
    "googlestr = \"https://docs.google.com/spreadsheets/d/\" \n",
    "gformat = \"/export?format=csv\"   \n",
    "request_link = pd.read_csv(googlestr+id+gformat)  \n",
    "request_link"
   ]
  },
  {
   "cell_type": "code",
   "execution_count": null,
   "id": "b914d1a3",
   "metadata": {},
   "outputs": [],
   "source": []
  },
  {
   "cell_type": "code",
   "execution_count": null,
   "id": "0db49b91",
   "metadata": {},
   "outputs": [],
   "source": []
  },
  {
   "cell_type": "code",
   "execution_count": null,
   "id": "238e424e",
   "metadata": {},
   "outputs": [],
   "source": []
  },
  {
   "cell_type": "code",
   "execution_count": null,
   "id": "96b3ae07",
   "metadata": {},
   "outputs": [],
   "source": []
  },
  {
   "cell_type": "code",
   "execution_count": null,
   "id": "7da1e630",
   "metadata": {},
   "outputs": [],
   "source": []
  },
  {
   "cell_type": "code",
   "execution_count": null,
   "id": "8e385490",
   "metadata": {},
   "outputs": [],
   "source": []
  }
 ],
 "metadata": {
  "kernelspec": {
   "display_name": "Python 3 (ipykernel)",
   "language": "python",
   "name": "python3"
  },
  "language_info": {
   "codemirror_mode": {
    "name": "ipython",
    "version": 3
   },
   "file_extension": ".py",
   "mimetype": "text/x-python",
   "name": "python",
   "nbconvert_exporter": "python",
   "pygments_lexer": "ipython3",
   "version": "3.9.12"
  }
 },
 "nbformat": 4,
 "nbformat_minor": 5
}
